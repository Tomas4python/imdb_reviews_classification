{
 "cells": [
  {
   "cell_type": "markdown",
   "id": "85442dd8-1317-47d0-b506-eceed9a52767",
   "metadata": {},
   "source": [
    "# IMDB movie review sentiment classification dataset\n",
    "Classify movie reviews into \"positive\" reviews and \"negative\" reviews, based on the text content of the reviews. Exclusive binary classification."
   ]
  },
  {
   "cell_type": "code",
   "execution_count": 1,
   "id": "24692f43-46a7-413f-91ff-34b49bb3262b",
   "metadata": {},
   "outputs": [],
   "source": [
    "# Ref: https://keras.io/api/datasets/imdb/"
   ]
  },
  {
   "cell_type": "code",
   "execution_count": 2,
   "id": "82de6cab-7e39-464c-ba3f-e03987371aed",
   "metadata": {},
   "outputs": [],
   "source": [
    "#!pip install tensorflow\n",
    "#!pip install seaborn"
   ]
  },
  {
   "cell_type": "code",
   "execution_count": 3,
   "id": "e6d4f0f5-0d5b-4c91-b11c-38488f29ea3a",
   "metadata": {},
   "outputs": [],
   "source": [
    "import pandas as pd\n",
    "import numpy as np\n",
    "import seaborn as sns\n",
    "import matplotlib.pyplot as plt\n",
    "import tensorflow as tf\n",
    "from tensorflow import keras"
   ]
  },
  {
   "cell_type": "markdown",
   "id": "9ddc9b74-b1ba-404f-9468-5a0af0dc7676",
   "metadata": {},
   "source": [
    "## Dataset"
   ]
  },
  {
   "cell_type": "code",
   "execution_count": 4,
   "id": "5e4d7836-d6b2-49d2-86cb-b458b3bc5d0b",
   "metadata": {},
   "outputs": [],
   "source": [
    "from keras.datasets import imdb\n",
    "\n",
    "(train_data, train_labels), (test_data, test_labels) = imdb.load_data(num_words=10000)"
   ]
  },
  {
   "cell_type": "code",
   "execution_count": 5,
   "id": "3aea3585-a855-4358-bb9b-66f95f54addb",
   "metadata": {},
   "outputs": [
    {
     "name": "stdout",
     "output_type": "stream",
     "text": [
      "25000\n",
      "[1, 14, 22, 16, 43, 530, 973, 1622, 1385, 65, 458, 4468, 66, 3941, 4, 173, 36, 256, 5, 25, 100, 43, 838, 112, 50, 670, 2, 9, 35, 480, 284, 5, 150, 4, 172, 112, 167, 2, 336, 385, 39, 4, 172, 4536, 1111, 17, 546, 38, 13, 447, 4, 192, 50, 16, 6, 147, 2025, 19, 14, 22, 4, 1920, 4613, 469, 4, 22, 71, 87, 12, 16, 43, 530, 38, 76, 15, 13, 1247, 4, 22, 17, 515, 17, 12, 16, 626, 18, 2, 5, 62, 386, 12, 8, 316, 8, 106, 5, 4, 2223, 5244, 16, 480, 66, 3785, 33, 4, 130, 12, 16, 38, 619, 5, 25, 124, 51, 36, 135, 48, 25, 1415, 33, 6, 22, 12, 215, 28, 77, 52, 5, 14, 407, 16, 82, 2, 8, 4, 107, 117, 5952, 15, 256, 4, 2, 7, 3766, 5, 723, 36, 71, 43, 530, 476, 26, 400, 317, 46, 7, 4, 2, 1029, 13, 104, 88, 4, 381, 15, 297, 98, 32, 2071, 56, 26, 141, 6, 194, 7486, 18, 4, 226, 22, 21, 134, 476, 26, 480, 5, 144, 30, 5535, 18, 51, 36, 28, 224, 92, 25, 104, 4, 226, 65, 16, 38, 1334, 88, 12, 16, 283, 5, 16, 4472, 113, 103, 32, 15, 16, 5345, 19, 178, 32]\n",
      "218\n",
      "189\n"
     ]
    }
   ],
   "source": [
    "print(len(train_data))\n",
    "print(list(train_data[0]))\n",
    "print(len(list(train_data[0])))\n",
    "print(len(list(train_data[1])))"
   ]
  },
  {
   "cell_type": "code",
   "execution_count": 6,
   "id": "78743992-7968-4f77-b670-17fc4a81a78d",
   "metadata": {},
   "outputs": [
    {
     "data": {
      "text/plain": [
       "1"
      ]
     },
     "execution_count": 6,
     "metadata": {},
     "output_type": "execute_result"
    }
   ],
   "source": [
    "train_labels[0]"
   ]
  },
  {
   "cell_type": "code",
   "execution_count": 7,
   "id": "3266ea8d-977f-43bb-a721-422e50b305e7",
   "metadata": {},
   "outputs": [
    {
     "data": {
      "text/plain": [
       "9999"
      ]
     },
     "execution_count": 7,
     "metadata": {},
     "output_type": "execute_result"
    }
   ],
   "source": [
    "max([max(sequence) for sequence in train_data])"
   ]
  },
  {
   "cell_type": "code",
   "execution_count": 8,
   "id": "5bc956ee-57f1-4d3f-8987-ad81b9f98c20",
   "metadata": {},
   "outputs": [
    {
     "name": "stdout",
     "output_type": "stream",
     "text": [
      "count    25000.000000\n",
      "mean       238.713640\n",
      "std        176.497204\n",
      "min         11.000000\n",
      "25%        130.000000\n",
      "50%        178.000000\n",
      "75%        291.000000\n",
      "max       2494.000000\n",
      "dtype: float64\n",
      "count    25000.000000\n",
      "mean       230.804200\n",
      "std        169.164471\n",
      "min          7.000000\n",
      "25%        128.000000\n",
      "50%        174.000000\n",
      "75%        280.000000\n",
      "max       2315.000000\n",
      "dtype: float64\n"
     ]
    }
   ],
   "source": [
    "# Getting description of rewievs lengths\n",
    "train_lengths = [len(sequence) for sequence in train_data]\n",
    "lengths_series = pd.Series(train_lengths)\n",
    "description = lengths_series.describe()\n",
    "print(description)\n",
    "test_lengths = [len(sequence) for sequence in test_data]\n",
    "lengths_series = pd.Series(test_lengths)\n",
    "description = lengths_series.describe()\n",
    "print(description)"
   ]
  },
  {
   "cell_type": "code",
   "execution_count": 9,
   "id": "121d4775-0d37-42c6-99e8-7dd123fb90ae",
   "metadata": {},
   "outputs": [
    {
     "data": {
      "image/png": "[encoded data removed]",
      "text/plain": [
       "<Figure size 400x400 with 1 Axes>"
      ]
     },
     "metadata": {},
     "output_type": "display_data"
    }
   ],
   "source": [
    "# Cheking if labels are balanced\n",
    "all_labels = np.concatenate((train_labels, test_labels))\n",
    "plt.figure(figsize=(4,4))\n",
    "sns.countplot(x=all_labels)\n",
    "plt.title('Distribution of Reuters Dataset Labels')\n",
    "plt.xlabel('Label')\n",
    "plt.ylabel('Frequency')\n",
    "plt.xticks(rotation=90)\n",
    "plt.show()"
   ]
  },
  {
   "cell_type": "code",
   "execution_count": 10,
   "id": "acee54fc-183b-4314-9cfb-4e7e507d9a08",
   "metadata": {},
   "outputs": [],
   "source": [
    "# word_index is a dictionary mapping words to an integer index\n",
    "word_index = imdb.get_word_index()\n",
    "# We reverse it, mapping integer indices to words\n",
    "reverse_word_index = dict([(value, key) for (key, value) in word_index.items()])\n",
    "# We decode the review; note that our indices were offset by 3\n",
    "# because 0, 1 and 2 are reserved indices for \"padding\", \"start of sequence\" (<SOS>), and \"unknown\" (<UNK>).\n",
    "decoded_review = ' '.join([reverse_word_index.get(i - 3, '###') for i in train_data[0]])"
   ]
  },
  {
   "cell_type": "code",
   "execution_count": 11,
   "id": "6c11681b-6e9a-4451-8a33-81e9a976307b",
   "metadata": {},
   "outputs": [
    {
     "data": {
      "text/plain": [
       "\"### this film was just brilliant casting location scenery story direction everyone's really suited the part they played and you could just imagine being there robert ### is an amazing actor and now the same being director ### father came from the same scottish island as myself so i loved the fact there was a real connection with this film the witty remarks throughout the film were great it was just brilliant so much that i bought the film as soon as it was released for ### and would recommend it to everyone to watch and the fly fishing was amazing really cried at the end it was so sad and you know what they say if you cry at a film it must have been good and this definitely was also ### to the two little boy's that played the ### of norman and paul they were just brilliant children are often left out of the ### list i think because the stars that play them all grown up are such a big profile for the whole film but these children are amazing and should be praised for what they have done don't you think the whole story was so lovely because it was true and was someone's life after all that was shared with us all\""
      ]
     },
     "execution_count": 11,
     "metadata": {},
     "output_type": "execute_result"
    }
   ],
   "source": [
    "decoded_review"
   ]
  },
  {
   "cell_type": "markdown",
   "id": "c54fba2e-ed1a-43a7-b978-2655917bfe68",
   "metadata": {},
   "source": [
    "## Data preparation"
   ]
  },
  {
   "cell_type": "code",
   "execution_count": 12,
   "id": "d9146716-e0e0-488a-9756-fe3c91a3b0c2",
   "metadata": {},
   "outputs": [],
   "source": [
    "def vectorize_sequences(sequences, dimension=10000):\n",
    "    # Create an all-zero matrix of shape (len(sequences), dimension)\n",
    "    results = np.zeros((len(sequences), dimension))\n",
    "    for i, sequence in enumerate(sequences):\n",
    "        results[i, sequence] = 1.  # set specific indices of results[i] to 1s\n",
    "    return results\n",
    "\n",
    "# Our vectorized training data\n",
    "x_train = vectorize_sequences(train_data)\n",
    "# Our vectorized test data\n",
    "x_test = vectorize_sequences(test_data)"
   ]
  },
  {
   "cell_type": "code",
   "execution_count": 13,
   "id": "8808b7ac-7201-4e4f-a665-62e4b479f58e",
   "metadata": {},
   "outputs": [],
   "source": [
    "# print(list(x_train[0]))\n",
    "# print(list(x_train[1]))\n",
    "# print(len(list(x_train[1])))"
   ]
  },
  {
   "cell_type": "code",
   "execution_count": 14,
   "id": "1bc745f8-7587-46d8-9ea2-d7bf243c27a8",
   "metadata": {},
   "outputs": [
    {
     "name": "stdout",
     "output_type": "stream",
     "text": [
      "0.0\n",
      "1.0\n",
      "1.0\n"
     ]
    }
   ],
   "source": [
    "# Our vectorized labels\n",
    "y_train = np.asarray(train_labels).astype('float32')\n",
    "y_test = np.asarray(test_labels).astype('float32')\n",
    "\n",
    "print(y_test[0])\n",
    "print(y_test[1])\n",
    "print(y_test[2])"
   ]
  },
  {
   "cell_type": "code",
   "execution_count": 15,
   "id": "5bbed243-37c9-4b08-83bb-fe7f30184135",
   "metadata": {},
   "outputs": [],
   "source": [
    "from tensorflow.keras.preprocessing.sequence import pad_sequences\n",
    "\n",
    "# Pad sequences to ensure they have the same length\n",
    "x_train_padded = pad_sequences(train_data, maxlen=500)\n",
    "x_test_padded = pad_sequences(test_data, maxlen=500)\n",
    "\n",
    "# Split the padded training data for validation\n",
    "x_val = x_train_padded[:5000]\n",
    "partial_x_train = x_train_padded[5000:]\n",
    "\n",
    "y_val = train_labels[:5000]\n",
    "partial_y_train = train_labels[5000:]"
   ]
  },
  {
   "cell_type": "markdown",
   "id": "d0a8d426-851f-457a-b232-a9679a868de2",
   "metadata": {},
   "source": [
    "## Define the Model"
   ]
  },
  {
   "cell_type": "code",
   "execution_count": 16,
   "id": "4c671c3d-b810-4047-9024-fb7c91234514",
   "metadata": {},
   "outputs": [],
   "source": [
    "# from tensorflow.keras import models, layers, regularizers\n",
    "# from tensorflow.keras.layers import Dropout\n",
    "\n",
    "# model = models.Sequential()\n",
    "# model.add(layers.Input(shape=(10000,)))\n",
    "# model.add(layers.Dense(16, activation='relu', kernel_regularizer=regularizers.l1(0.001)))\n",
    "# model.add(layers.Dense(16, activation='relu', kernel_regularizer=regularizers.l1(0.001)))\n",
    "\n",
    "# # Output layer\n",
    "# model.add(layers.Dense(1, activation='sigmoid'))"
   ]
  },
  {
   "cell_type": "code",
   "execution_count": 17,
   "id": "d429388e-0085-4715-b34a-a81dabb50fc1",
   "metadata": {},
   "outputs": [],
   "source": [
    "from tensorflow.keras.models import Sequential\n",
    "from tensorflow.keras.layers import Embedding, Flatten, Dense, Dropout, Conv1D, GlobalMaxPooling1D\n",
    "from tensorflow.keras import regularizers\n",
    "\n",
    "model = Sequential()\n",
    "model.add(Embedding(input_dim=10000, output_dim=64))\n",
    "model.add(Conv1D(64, 5, activation='relu'))  # Shorter filter size\n",
    "model.add(GlobalMaxPooling1D())\n",
    "model.add(Dense(32, activation='relu'))\n",
    "# model.add(Dense(32, activation='relu', kernel_regularizer=regularizers.l2(0.001))) \n",
    "model.add(Dropout(0.5)) \n",
    "model.add(Dense(16, activation='relu'))\n",
    "# model.add(Dense(5, activation='relu', kernel_regularizer=regularizers.l2(0.001)))\n",
    "model.add(Dropout(0.5))  \n",
    "# model.add(Dense(16, activation='relu', kernel_regularizer=regularizers.l1(0.001)))\n",
    "# model.add(Dense(16, activation='relu', kernel_regularizer=regularizers.l1(0.001)))\n",
    "model.add(Dense(1, activation='sigmoid'))"
   ]
  },
  {
   "cell_type": "code",
   "execution_count": 18,
   "id": "9c9e792d-3334-436a-922b-0e68f309e2ac",
   "metadata": {},
   "outputs": [],
   "source": [
    "# model.compile(optimizer='rmsprop', loss='binary_crossentropy', metrics=['accuracy'])"
   ]
  },
  {
   "cell_type": "code",
   "execution_count": 19,
   "id": "cfa37407-d925-49e3-a622-a5522a3af452",
   "metadata": {},
   "outputs": [],
   "source": [
    "# from keras import optimizers\n",
    "\n",
    "# model.compile(optimizer=optimizers.RMSprop(learning_rate=0.001), loss='binary_crossentropy', metrics=['accuracy'])"
   ]
  },
  {
   "cell_type": "code",
   "execution_count": 20,
   "id": "4776478b-c7bd-465a-91dc-0b89f1eb477c",
   "metadata": {},
   "outputs": [],
   "source": [
    "from keras import losses\n",
    "from keras import metrics\n",
    "from tensorflow.keras import optimizers\n",
    "\n",
    "model.compile(optimizer=optimizers.Adam(learning_rate=0.0005), loss=losses.binary_crossentropy, metrics=[metrics.binary_accuracy])"
   ]
  },
  {
   "cell_type": "code",
   "execution_count": 21,
   "id": "d8fbc7d5-9fea-41c6-b6e9-b6fdb23631d6",
   "metadata": {},
   "outputs": [],
   "source": [
    "# x_val = x_train[:10000]\n",
    "# partial_x_train = x_train[10000:]\n",
    "\n",
    "# y_val = y_train[:10000]\n",
    "# partial_y_train = y_train[10000:]\n"
   ]
  },
  {
   "cell_type": "code",
   "execution_count": 22,
   "id": "ad181c4e-d912-4aad-80be-00fc402f0636",
   "metadata": {},
   "outputs": [
    {
     "name": "stdout",
     "output_type": "stream",
     "text": [
      "(5000, 500)\n",
      "(20000, 500)\n"
     ]
    }
   ],
   "source": [
    "print(x_val.shape)\n",
    "print(partial_x_train.shape)"
   ]
  },
  {
   "cell_type": "code",
   "execution_count": 23,
   "id": "4f186b98-63bf-49d7-928b-d950f4db2cba",
   "metadata": {},
   "outputs": [],
   "source": [
    "# Adding EarlyStopping to the code and ReduceLROnPlateau\n",
    "from keras.callbacks import EarlyStopping, ReduceLROnPlateau\n",
    "\n",
    "early_stopping = EarlyStopping(monitor='val_loss', patience=5, verbose=1, restore_best_weights=True)\n",
    "reduce_lr = ReduceLROnPlateau(monitor='val_loss', factor=0.1, patience=1, min_lr=1e-6, verbose=1)"
   ]
  },
  {
   "cell_type": "markdown",
   "id": "f378adb4-ade1-42e7-b273-51e001a7a929",
   "metadata": {},
   "source": [
    "## Train the Model"
   ]
  },
  {
   "cell_type": "code",
   "execution_count": 24,
   "id": "c5a1350f-e8d5-4f84-a3a3-81db8d294497",
   "metadata": {},
   "outputs": [
    {
     "name": "stdout",
     "output_type": "stream",
     "text": [
      "Epoch 1/100\n",
      "20/20 [==============================] - 6s 90ms/step - loss: 0.6938 - binary_accuracy: 0.5027 - val_loss: 0.6924 - val_binary_accuracy: 0.5538 - lr: 5.0000e-04\n",
      "Epoch 2/100\n",
      "20/20 [==============================] - 1s 75ms/step - loss: 0.6914 - binary_accuracy: 0.5239 - val_loss: 0.6898 - val_binary_accuracy: 0.6122 - lr: 5.0000e-04\n",
      "Epoch 3/100\n",
      "20/20 [==============================] - 1s 74ms/step - loss: 0.6872 - binary_accuracy: 0.5511 - val_loss: 0.6815 - val_binary_accuracy: 0.7176 - lr: 5.0000e-04\n",
      "Epoch 4/100\n",
      "20/20 [==============================] - 2s 78ms/step - loss: 0.6729 - binary_accuracy: 0.6192 - val_loss: 0.6600 - val_binary_accuracy: 0.7428 - lr: 5.0000e-04\n",
      "Epoch 5/100\n",
      "20/20 [==============================] - 2s 78ms/step - loss: 0.6426 - binary_accuracy: 0.6693 - val_loss: 0.6133 - val_binary_accuracy: 0.7510 - lr: 5.0000e-04\n",
      "Epoch 6/100\n",
      "20/20 [==============================] - 2s 100ms/step - loss: 0.5950 - binary_accuracy: 0.7171 - val_loss: 0.5469 - val_binary_accuracy: 0.7784 - lr: 5.0000e-04\n",
      "Epoch 7/100\n",
      "20/20 [==============================] - 2s 88ms/step - loss: 0.5316 - binary_accuracy: 0.7655 - val_loss: 0.4740 - val_binary_accuracy: 0.8128 - lr: 5.0000e-04\n",
      "Epoch 8/100\n",
      "20/20 [==============================] - 6s 295ms/step - loss: 0.4629 - binary_accuracy: 0.8101 - val_loss: 0.4076 - val_binary_accuracy: 0.8348 - lr: 5.0000e-04\n",
      "Epoch 9/100\n",
      "20/20 [==============================] - 8s 422ms/step - loss: 0.3971 - binary_accuracy: 0.8497 - val_loss: 0.3612 - val_binary_accuracy: 0.8524 - lr: 5.0000e-04\n",
      "Epoch 10/100\n",
      "20/20 [==============================] - 8s 420ms/step - loss: 0.3397 - binary_accuracy: 0.8830 - val_loss: 0.3273 - val_binary_accuracy: 0.8672 - lr: 5.0000e-04\n",
      "Epoch 11/100\n",
      "20/20 [==============================] - 8s 423ms/step - loss: 0.2857 - binary_accuracy: 0.9092 - val_loss: 0.3034 - val_binary_accuracy: 0.8766 - lr: 5.0000e-04\n",
      "Epoch 12/100\n",
      "20/20 [==============================] - 8s 426ms/step - loss: 0.2342 - binary_accuracy: 0.9337 - val_loss: 0.2935 - val_binary_accuracy: 0.8824 - lr: 5.0000e-04\n",
      "Epoch 13/100\n",
      "20/20 [==============================] - 8s 422ms/step - loss: 0.1948 - binary_accuracy: 0.9489 - val_loss: 0.2853 - val_binary_accuracy: 0.8872 - lr: 5.0000e-04\n",
      "Epoch 14/100\n",
      "20/20 [==============================] - ETA: 0s - loss: 0.1612 - binary_accuracy: 0.9599\n",
      "Epoch 14: ReduceLROnPlateau reducing learning rate to 5.0000002374872565e-05.\n",
      "20/20 [==============================] - 8s 421ms/step - loss: 0.1612 - binary_accuracy: 0.9599 - val_loss: 0.2875 - val_binary_accuracy: 0.8856 - lr: 5.0000e-04\n",
      "Epoch 15/100\n",
      "20/20 [==============================] - ETA: 0s - loss: 0.1364 - binary_accuracy: 0.9707\n",
      "Epoch 15: ReduceLROnPlateau reducing learning rate to 5.000000237487257e-06.\n",
      "20/20 [==============================] - 9s 428ms/step - loss: 0.1364 - binary_accuracy: 0.9707 - val_loss: 0.2878 - val_binary_accuracy: 0.8876 - lr: 5.0000e-05\n",
      "Epoch 16/100\n",
      "20/20 [==============================] - ETA: 0s - loss: 0.1361 - binary_accuracy: 0.9707\n",
      "Epoch 16: ReduceLROnPlateau reducing learning rate to 1e-06.\n",
      "20/20 [==============================] - 8s 424ms/step - loss: 0.1361 - binary_accuracy: 0.9707 - val_loss: 0.2877 - val_binary_accuracy: 0.8880 - lr: 5.0000e-06\n",
      "Epoch 17/100\n",
      "20/20 [==============================] - 8s 423ms/step - loss: 0.1349 - binary_accuracy: 0.9703 - val_loss: 0.2877 - val_binary_accuracy: 0.8880 - lr: 1.0000e-06\n",
      "Epoch 18/100\n",
      "20/20 [==============================] - ETA: 0s - loss: 0.1368 - binary_accuracy: 0.9689Restoring model weights from the end of the best epoch: 13.\n",
      "20/20 [==============================] - 8s 426ms/step - loss: 0.1368 - binary_accuracy: 0.9689 - val_loss: 0.2877 - val_binary_accuracy: 0.8880 - lr: 1.0000e-06\n",
      "Epoch 18: early stopping\n",
      "Model: \"sequential\"\n",
      "_________________________________________________________________\n",
      " Layer (type)                Output Shape              Param #   \n",
      "=================================================================\n",
      " embedding (Embedding)       (None, None, 64)          640000    \n",
      "                                                                 \n",
      " conv1d (Conv1D)             (None, None, 64)          20544     \n",
      "                                                                 \n",
      " global_max_pooling1d (Globa  (None, 64)               0         \n",
      " lMaxPooling1D)                                                  \n",
      "                                                                 \n",
      " dense (Dense)               (None, 32)                2080      \n",
      "                                                                 \n",
      " dropout (Dropout)           (None, 32)                0         \n",
      "                                                                 \n",
      " dense_1 (Dense)             (None, 16)                528       \n",
      "                                                                 \n",
      " dropout_1 (Dropout)         (None, 16)                0         \n",
      "                                                                 \n",
      " dense_2 (Dense)             (None, 1)                 17        \n",
      "                                                                 \n",
      "=================================================================\n",
      "Total params: 663,169\n",
      "Trainable params: 663,169\n",
      "Non-trainable params: 0\n",
      "_________________________________________________________________\n"
     ]
    }
   ],
   "source": [
    "history = model.fit(\n",
    "    partial_x_train, \n",
    "    partial_y_train, \n",
    "    epochs=100, \n",
    "    batch_size=1000,\n",
    "    validation_data=(x_val, y_val), \n",
    "    callbacks=[early_stopping, reduce_lr]\n",
    ")\n",
    "model.summary()"
   ]
  },
  {
   "cell_type": "code",
   "execution_count": 25,
   "id": "fe6d5a52-bbf3-481d-9b2a-4e41435562bc",
   "metadata": {},
   "outputs": [
    {
     "data": {
      "text/plain": [
       "dict_keys(['loss', 'binary_accuracy', 'val_loss', 'val_binary_accuracy', 'lr'])"
      ]
     },
     "execution_count": 25,
     "metadata": {},
     "output_type": "execute_result"
    }
   ],
   "source": [
    "history_dict = history.history\n",
    "history_dict.keys()"
   ]
  },
  {
   "cell_type": "markdown",
   "id": "0c851e50-9b96-46dd-ae9a-e438417c0d5b",
   "metadata": {},
   "source": [
    "## Evaluate"
   ]
  },
  {
   "cell_type": "code",
   "execution_count": 26,
   "id": "e2237264-00e6-420e-936e-a0a4d69ad9f7",
   "metadata": {},
   "outputs": [
    {
     "name": "stdout",
     "output_type": "stream",
     "text": [
      "Best Validation Loss: 0.28534144163131714\n",
      "Corresponding Training Loss: 0.19476506114006042\n",
      "Best Validation Accuracy: 0.8871999979019165\n",
      "Corresponding Training Accuracy: 0.9488999843597412\n"
     ]
    }
   ],
   "source": [
    "# Adding best validation metrics to be able follow, describe and compare the results of different models\n",
    "best_epoch = np.argmin(history.history['val_loss'])\n",
    "best_val_loss = history.history['val_loss'][best_epoch]\n",
    "best_train_loss = history.history['loss'][best_epoch]\n",
    "best_val_acc = history.history['val_binary_accuracy'][best_epoch]\n",
    "best_train_acc = history.history['binary_accuracy'][best_epoch]\n",
    "\n",
    "print(f\"Best Validation Loss: {best_val_loss}\")\n",
    "print(f\"Corresponding Training Loss: {best_train_loss}\")\n",
    "print(f\"Best Validation Accuracy: {best_val_acc}\")\n",
    "print(f\"Corresponding Training Accuracy: {best_train_acc}\")\n"
   ]
  },
  {
   "cell_type": "code",
   "execution_count": 27,
   "id": "b6162fd4-2a73-430e-bbbf-b792911e170e",
   "metadata": {},
   "outputs": [
    {
     "name": "stdout",
     "output_type": "stream",
     "text": [
      "782/782 [==============================] - 8s 10ms/step - loss: 0.2892 - binary_accuracy: 0.8817\n",
      "Test Loss: 0.28915083408355713\n",
      "Test Accuracy: 0.8817200064659119\n"
     ]
    }
   ],
   "source": [
    "# Evaluate on test data\n",
    "test_loss, test_accuracy = model.evaluate(x_test_padded, test_labels)\n",
    "\n",
    "# Print formatted results\n",
    "print(f\"Test Loss: {test_loss}\")\n",
    "print(f\"Test Accuracy: {test_accuracy}\")\n"
   ]
  },
  {
   "cell_type": "markdown",
   "id": "9a7258ac-ea7f-46bc-b283-ec2df6117b27",
   "metadata": {},
   "source": [
    "## Visualize"
   ]
  },
  {
   "cell_type": "code",
   "execution_count": 28,
   "id": "b3ae7a77-9369-485b-86e3-1d6ffcfb512f",
   "metadata": {},
   "outputs": [
    {
     "data": {
      "image/png": "[encoded data removed]",
      "text/plain": [
       "<Figure size 640x480 with 1 Axes>"
      ]
     },
     "metadata": {},
     "output_type": "display_data"
    }
   ],
   "source": [
    "import matplotlib.pyplot as plt\n",
    "\n",
    "acc = history.history['binary_accuracy']\n",
    "val_acc = history.history['val_binary_accuracy']\n",
    "loss = history.history['loss']\n",
    "val_loss = history.history['val_loss']\n",
    "\n",
    "epochs = range(1, len(acc) + 1)\n",
    "\n",
    "# \"bo\" is for \"blue dot\"\n",
    "plt.plot(epochs, loss, 'bo', label='Training loss', markersize=1)\n",
    "# b is for \"solid blue line\"\n",
    "plt.plot(epochs, val_loss, 'b', label='Validation loss')\n",
    "plt.title('Training and validation loss')\n",
    "plt.xlabel('Epochs')\n",
    "plt.ylabel('Loss')\n",
    "plt.legend()\n",
    "\n",
    "plt.show()"
   ]
  },
  {
   "cell_type": "code",
   "execution_count": 29,
   "id": "f702b359-131b-4d69-adb4-6cdcf76ba16b",
   "metadata": {},
   "outputs": [
    {
     "data": {
      "image/png": "[encoded data removed]",
      "text/plain": [
       "<Figure size 640x480 with 1 Axes>"
      ]
     },
     "metadata": {},
     "output_type": "display_data"
    }
   ],
   "source": [
    "plt.clf()   # clear figure\n",
    "acc_values = history.history['binary_accuracy']\n",
    "val_acc_values = history.history['val_binary_accuracy']\n",
    "\n",
    "plt.plot(epochs, acc, 'bo', label='Training acc', markersize=1)\n",
    "plt.plot(epochs, val_acc, 'b', label='Validation acc')\n",
    "plt.title('Training and validation accuracy')\n",
    "plt.xlabel('Epochs')\n",
    "plt.ylabel('Loss')\n",
    "plt.legend()\n",
    "\n",
    "plt.show()"
   ]
  }
 ],
 "metadata": {
  "kernelspec": {
   "display_name": "Python 3 (ipykernel)",
   "language": "python",
   "name": "python3"
  },
  "language_info": {
   "codemirror_mode": {
    "name": "ipython",
    "version": 3
   },
   "file_extension": ".py",
   "mimetype": "text/x-python",
   "name": "python",
   "nbconvert_exporter": "python",
   "pygments_lexer": "ipython3",
   "version": "3.10.14"
  }
 },
 "nbformat": 4,
 "nbformat_minor": 5
}

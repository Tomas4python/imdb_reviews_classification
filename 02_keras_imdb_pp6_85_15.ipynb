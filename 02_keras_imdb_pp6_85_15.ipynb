{
 "cells": [
  {
   "cell_type": "markdown",
   "id": "85442dd8-1317-47d0-b506-eceed9a52767",
   "metadata": {},
   "source": [
    "# IMDB movie review sentiment classification dataset\n",
    "Classify movie reviews into \"positive\" reviews and \"negative\" reviews, based on the text content of the reviews. Exclusive binary classification."
   ]
  },
  {
   "cell_type": "code",
   "execution_count": 1,
   "id": "24692f43-46a7-413f-91ff-34b49bb3262b",
   "metadata": {},
   "outputs": [],
   "source": [
    "# Ref: https://keras.io/api/datasets/imdb/"
   ]
  },
  {
   "cell_type": "code",
   "execution_count": 2,
   "id": "82de6cab-7e39-464c-ba3f-e03987371aed",
   "metadata": {},
   "outputs": [],
   "source": [
    "#!pip install tensorflow\n",
    "#!pip install seaborn"
   ]
  },
  {
   "cell_type": "code",
   "execution_count": 3,
   "id": "e6d4f0f5-0d5b-4c91-b11c-38488f29ea3a",
   "metadata": {},
   "outputs": [],
   "source": [
    "import pandas as pd\n",
    "import numpy as np\n",
    "import seaborn as sns\n",
    "import matplotlib.pyplot as plt\n",
    "import tensorflow as tf\n",
    "from tensorflow import keras"
   ]
  },
  {
   "cell_type": "markdown",
   "id": "9ddc9b74-b1ba-404f-9468-5a0af0dc7676",
   "metadata": {},
   "source": [
    "## Dataset"
   ]
  },
  {
   "cell_type": "markdown",
   "id": "52cd066d-7e07-4f71-ac06-97647d60c4d9",
   "metadata": {},
   "source": [
    "## Changing train/test split ratio to 85/15"
   ]
  },
  {
   "cell_type": "code",
   "execution_count": 4,
   "id": "5e4d7836-d6b2-49d2-86cb-b458b3bc5d0b",
   "metadata": {},
   "outputs": [],
   "source": [
    "from keras.datasets import imdb\n",
    "\n",
    "(old_train_data, old_train_labels), (old_test_data, old_test_labels) = imdb.load_data(num_words=10000)\n",
    "data = np.concatenate([old_train_data, old_test_data])\n",
    "labels = np.concatenate([old_train_labels, old_test_labels])\n",
    "\n",
    "train_test_split_index = int(0.85 * len(data))\n",
    "train_data = data[:train_test_split_index]\n",
    "train_labels = labels[:train_test_split_index]\n",
    "test_data = data[train_test_split_index:]\n",
    "test_labels = labels[train_test_split_index:]"
   ]
  },
  {
   "cell_type": "code",
   "execution_count": 5,
   "id": "7a498734-7b1f-4c06-9a05-462c29e65385",
   "metadata": {},
   "outputs": [
    {
     "name": "stdout",
     "output_type": "stream",
     "text": [
      "(25000,) (25000,)\n"
     ]
    }
   ],
   "source": [
    "print(old_train_data.shape, old_train_labels.shape)"
   ]
  },
  {
   "cell_type": "code",
   "execution_count": 6,
   "id": "1237458a-f9a9-4ac4-80ec-d93c6f19bf59",
   "metadata": {},
   "outputs": [
    {
     "name": "stdout",
     "output_type": "stream",
     "text": [
      "[1, 14, 22, 16, 43, 530, 973, 1622, 1385, 65, 458, 4468, 66, 3941, 4, 173, 36, 256, 5, 25, 100, 43, 838, 112, 50, 670, 2, 9, 35, 480, 284, 5, 150, 4, 172, 112, 167, 2, 336, 385, 39, 4, 172, 4536, 1111, 17, 546, 38, 13, 447, 4, 192, 50, 16, 6, 147, 2025, 19, 14, 22, 4, 1920, 4613, 469, 4, 22, 71, 87, 12, 16, 43, 530, 38, 76, 15, 13, 1247, 4, 22, 17, 515, 17, 12, 16, 626, 18, 2, 5, 62, 386, 12, 8, 316, 8, 106, 5, 4, 2223, 5244, 16, 480, 66, 3785, 33, 4, 130, 12, 16, 38, 619, 5, 25, 124, 51, 36, 135, 48, 25, 1415, 33, 6, 22, 12, 215, 28, 77, 52, 5, 14, 407, 16, 82, 2, 8, 4, 107, 117, 5952, 15, 256, 4, 2, 7, 3766, 5, 723, 36, 71, 43, 530, 476, 26, 400, 317, 46, 7, 4, 2, 1029, 13, 104, 88, 4, 381, 15, 297, 98, 32, 2071, 56, 26, 141, 6, 194, 7486, 18, 4, 226, 22, 21, 134, 476, 26, 480, 5, 144, 30, 5535, 18, 51, 36, 28, 224, 92, 25, 104, 4, 226, 65, 16, 38, 1334, 88, 12, 16, 283, 5, 16, 4472, 113, 103, 32, 15, 16, 5345, 19, 178, 32] 1\n"
     ]
    }
   ],
   "source": [
    "print(old_train_data[0], old_train_labels[0])"
   ]
  },
  {
   "cell_type": "code",
   "execution_count": 7,
   "id": "3aea3585-a855-4358-bb9b-66f95f54addb",
   "metadata": {},
   "outputs": [
    {
     "name": "stdout",
     "output_type": "stream",
     "text": [
      "42500\n",
      "[1, 14, 22, 16, 43, 530, 973, 1622, 1385, 65, 458, 4468, 66, 3941, 4, 173, 36, 256, 5, 25, 100, 43, 838, 112, 50, 670, 2, 9, 35, 480, 284, 5, 150, 4, 172, 112, 167, 2, 336, 385, 39, 4, 172, 4536, 1111, 17, 546, 38, 13, 447, 4, 192, 50, 16, 6, 147, 2025, 19, 14, 22, 4, 1920, 4613, 469, 4, 22, 71, 87, 12, 16, 43, 530, 38, 76, 15, 13, 1247, 4, 22, 17, 515, 17, 12, 16, 626, 18, 2, 5, 62, 386, 12, 8, 316, 8, 106, 5, 4, 2223, 5244, 16, 480, 66, 3785, 33, 4, 130, 12, 16, 38, 619, 5, 25, 124, 51, 36, 135, 48, 25, 1415, 33, 6, 22, 12, 215, 28, 77, 52, 5, 14, 407, 16, 82, 2, 8, 4, 107, 117, 5952, 15, 256, 4, 2, 7, 3766, 5, 723, 36, 71, 43, 530, 476, 26, 400, 317, 46, 7, 4, 2, 1029, 13, 104, 88, 4, 381, 15, 297, 98, 32, 2071, 56, 26, 141, 6, 194, 7486, 18, 4, 226, 22, 21, 134, 476, 26, 480, 5, 144, 30, 5535, 18, 51, 36, 28, 224, 92, 25, 104, 4, 226, 65, 16, 38, 1334, 88, 12, 16, 283, 5, 16, 4472, 113, 103, 32, 15, 16, 5345, 19, 178, 32]\n",
      "218\n",
      "189\n"
     ]
    }
   ],
   "source": [
    "print(len(train_data))\n",
    "print(list(train_data[0]))\n",
    "print(len(list(train_data[0])))\n",
    "print(len(list(train_data[1])))"
   ]
  },
  {
   "cell_type": "code",
   "execution_count": 8,
   "id": "78743992-7968-4f77-b670-17fc4a81a78d",
   "metadata": {},
   "outputs": [
    {
     "data": {
      "text/plain": [
       "1"
      ]
     },
     "execution_count": 8,
     "metadata": {},
     "output_type": "execute_result"
    }
   ],
   "source": [
    "train_labels[0]"
   ]
  },
  {
   "cell_type": "code",
   "execution_count": 9,
   "id": "3266ea8d-977f-43bb-a721-422e50b305e7",
   "metadata": {},
   "outputs": [
    {
     "data": {
      "text/plain": [
       "9999"
      ]
     },
     "execution_count": 9,
     "metadata": {},
     "output_type": "execute_result"
    }
   ],
   "source": [
    "max([max(sequence) for sequence in train_data])"
   ]
  },
  {
   "cell_type": "code",
   "execution_count": 10,
   "id": "5bc956ee-57f1-4d3f-8987-ad81b9f98c20",
   "metadata": {},
   "outputs": [
    {
     "name": "stdout",
     "output_type": "stream",
     "text": [
      "count    42500.000000\n",
      "mean       235.779976\n",
      "std        174.248698\n",
      "min          7.000000\n",
      "25%        129.000000\n",
      "50%        176.000000\n",
      "75%        286.000000\n",
      "max       2494.000000\n",
      "dtype: float64\n",
      "count    7500.000000\n",
      "mean      228.972933\n",
      "std       165.033566\n",
      "min        10.000000\n",
      "25%       128.000000\n",
      "50%       176.000000\n",
      "75%       280.000000\n",
      "max      2315.000000\n",
      "dtype: float64\n"
     ]
    }
   ],
   "source": [
    "# Getting description of rewievs lengths\n",
    "train_lengths = [len(sequence) for sequence in train_data]\n",
    "lengths_series = pd.Series(train_lengths)\n",
    "description = lengths_series.describe()\n",
    "print(description)\n",
    "test_lengths = [len(sequence) for sequence in test_data]\n",
    "lengths_series = pd.Series(test_lengths)\n",
    "description = lengths_series.describe()\n",
    "print(description)"
   ]
  },
  {
   "cell_type": "code",
   "execution_count": 11,
   "id": "121d4775-0d37-42c6-99e8-7dd123fb90ae",
   "metadata": {},
   "outputs": [
    {
     "data": {
      "image/png": "[encoded data removed]",
      "text/plain": [
       "<Figure size 400x400 with 1 Axes>"
      ]
     },
     "metadata": {},
     "output_type": "display_data"
    }
   ],
   "source": [
    "# Cheking if labels are balanced\n",
    "all_labels = np.concatenate((train_labels, test_labels))\n",
    "plt.figure(figsize=(4,4))\n",
    "sns.countplot(x=all_labels)\n",
    "plt.title('Distribution of Reuters Dataset Labels')\n",
    "plt.xlabel('Label')\n",
    "plt.ylabel('Frequency')\n",
    "plt.xticks(rotation=90)\n",
    "plt.show()"
   ]
  },
  {
   "cell_type": "code",
   "execution_count": 12,
   "id": "acee54fc-183b-4314-9cfb-4e7e507d9a08",
   "metadata": {},
   "outputs": [],
   "source": [
    "# word_index is a dictionary mapping words to an integer index\n",
    "word_index = imdb.get_word_index()\n",
    "# We reverse it, mapping integer indices to words\n",
    "reverse_word_index = dict([(value, key) for (key, value) in word_index.items()])\n",
    "# We decode the review; note that our indices were offset by 3\n",
    "# because 0, 1 and 2 are reserved indices for \"padding\", \"start of sequence\" (<SOS>), and \"unknown\" (<UNK>).\n",
    "decoded_review = ' '.join([reverse_word_index.get(i - 3, '###') for i in train_data[0]])"
   ]
  },
  {
   "cell_type": "code",
   "execution_count": 13,
   "id": "6c11681b-6e9a-4451-8a33-81e9a976307b",
   "metadata": {},
   "outputs": [
    {
     "data": {
      "text/plain": [
       "\"### this film was just brilliant casting location scenery story direction everyone's really suited the part they played and you could just imagine being there robert ### is an amazing actor and now the same being director ### father came from the same scottish island as myself so i loved the fact there was a real connection with this film the witty remarks throughout the film were great it was just brilliant so much that i bought the film as soon as it was released for ### and would recommend it to everyone to watch and the fly fishing was amazing really cried at the end it was so sad and you know what they say if you cry at a film it must have been good and this definitely was also ### to the two little boy's that played the ### of norman and paul they were just brilliant children are often left out of the ### list i think because the stars that play them all grown up are such a big profile for the whole film but these children are amazing and should be praised for what they have done don't you think the whole story was so lovely because it was true and was someone's life after all that was shared with us all\""
      ]
     },
     "execution_count": 13,
     "metadata": {},
     "output_type": "execute_result"
    }
   ],
   "source": [
    "decoded_review"
   ]
  },
  {
   "cell_type": "markdown",
   "id": "c54fba2e-ed1a-43a7-b978-2655917bfe68",
   "metadata": {},
   "source": [
    "## Data preparation"
   ]
  },
  {
   "cell_type": "code",
   "execution_count": 14,
   "id": "d9146716-e0e0-488a-9756-fe3c91a3b0c2",
   "metadata": {},
   "outputs": [],
   "source": [
    "# def vectorize_sequences(sequences, dimension=10000):\n",
    "#     # Create an all-zero matrix of shape (len(sequences), dimension)\n",
    "#     results = np.zeros((len(sequences), dimension))\n",
    "#     for i, sequence in enumerate(sequences):\n",
    "#         results[i, sequence] = 1.  # set specific indices of results[i] to 1s\n",
    "#     return results\n",
    "\n",
    "# # Our vectorized training data\n",
    "# x_train = vectorize_sequences(train_data)\n",
    "# # Our vectorized test data\n",
    "# x_test = vectorize_sequences(test_data)"
   ]
  },
  {
   "cell_type": "code",
   "execution_count": 15,
   "id": "1bc745f8-7587-46d8-9ea2-d7bf243c27a8",
   "metadata": {},
   "outputs": [],
   "source": [
    "# # Our vectorized labels\n",
    "# y_train = np.asarray(train_labels).astype('float32')\n",
    "# y_test = np.asarray(test_labels).astype('float32')\n",
    "\n",
    "# print(x_train.shape)\n",
    "# print(x_test.shape)\n",
    "# print(y_train[0])\n",
    "# print(y_train[1])\n",
    "# print(y_train[2])\n",
    "# print(y_test[0])\n",
    "# print(y_test[1])\n",
    "# print(y_test[2])"
   ]
  },
  {
   "cell_type": "code",
   "execution_count": 16,
   "id": "5bbed243-37c9-4b08-83bb-fe7f30184135",
   "metadata": {},
   "outputs": [],
   "source": [
    "from tensorflow.keras.preprocessing.sequence import pad_sequences\n",
    "\n",
    "# Pad sequences to ensure they have the same length\n",
    "x_train_padded = pad_sequences(train_data, maxlen=500)\n",
    "x_test_padded = pad_sequences(test_data, maxlen=500)\n",
    "\n",
    "# Split the padded training data for validation\n",
    "train_val_split_index = int(0.20 * len(x_train_padded))\n",
    "x_val = x_train_padded[:train_val_split_index]\n",
    "partial_x_train = x_train_padded[train_val_split_index:]\n",
    "y_val = train_labels[:train_val_split_index]\n",
    "partial_y_train = train_labels[train_val_split_index:]\n"
   ]
  },
  {
   "cell_type": "code",
   "execution_count": 17,
   "id": "9ebe3b5b-815e-41ab-aa58-de0b4f04f792",
   "metadata": {},
   "outputs": [
    {
     "name": "stdout",
     "output_type": "stream",
     "text": [
      "(8500, 500) (34000, 500)\n",
      "(8500,) (34000,)\n"
     ]
    }
   ],
   "source": [
    "print(x_val.shape, partial_x_train.shape)\n",
    "print(y_val.shape, partial_y_train.shape)"
   ]
  },
  {
   "cell_type": "markdown",
   "id": "d0a8d426-851f-457a-b232-a9679a868de2",
   "metadata": {},
   "source": [
    "## Define the Model"
   ]
  },
  {
   "cell_type": "code",
   "execution_count": 18,
   "id": "4c671c3d-b810-4047-9024-fb7c91234514",
   "metadata": {},
   "outputs": [
    {
     "name": "stdout",
     "output_type": "stream",
     "text": [
      "Model: \"sequential\"\n",
      "_________________________________________________________________\n",
      " Layer (type)                Output Shape              Param #   \n",
      "=================================================================\n",
      " embedding (Embedding)       (None, 500, 32)           320000    \n",
      "                                                                 \n",
      " flatten (Flatten)           (None, 16000)             0         \n",
      "                                                                 \n",
      " dense (Dense)               (None, 16)                256016    \n",
      "                                                                 \n",
      " dropout (Dropout)           (None, 16)                0         \n",
      "                                                                 \n",
      " dense_1 (Dense)             (None, 8)                 136       \n",
      "                                                                 \n",
      " dropout_1 (Dropout)         (None, 8)                 0         \n",
      "                                                                 \n",
      " dense_2 (Dense)             (None, 1)                 9         \n",
      "                                                                 \n",
      "=================================================================\n",
      "Total params: 576,161\n",
      "Trainable params: 576,161\n",
      "Non-trainable params: 0\n",
      "_________________________________________________________________\n"
     ]
    }
   ],
   "source": [
    "from tensorflow.keras import models, layers, regularizers\n",
    "from tensorflow.keras.layers import Dropout\n",
    "\n",
    "model = models.Sequential([\n",
    "    layers.Embedding(input_dim=10000, output_dim=32, input_length=500),\n",
    "    layers.Flatten(),\n",
    "    layers.Dense(16, activation='relu'),\n",
    "    layers.Dropout(0.5),\n",
    "    layers.Dense(8, activation='relu'),\n",
    "    layers.Dropout(0.5),\n",
    "    layers.Dense(1, activation='sigmoid')\n",
    "])\n",
    "\n",
    "model.summary()"
   ]
  },
  {
   "cell_type": "code",
   "execution_count": 19,
   "id": "d429388e-0085-4715-b34a-a81dabb50fc1",
   "metadata": {},
   "outputs": [],
   "source": [
    "# from tensorflow.keras.models import Sequential\n",
    "# from tensorflow.keras.layers import Embedding, Flatten, Dense, Dropout, Conv1D, GlobalMaxPooling1D\n",
    "# from tensorflow.keras import regularizers\n",
    "\n",
    "# model = Sequential()\n",
    "# model.add(Embedding(input_dim=10000, output_dim=64))\n",
    "# model.add(Conv1D(64, 5, activation='relu'))  # Shorter filter size\n",
    "# model.add(GlobalMaxPooling1D())\n",
    "# model.add(Dense(64, activation='relu'))\n",
    "# # # model.add(Dense(32, activation='relu', kernel_regularizer=regularizers.l2(0.001))) \n",
    "# model.add(Dropout(0.2)) \n",
    "# model.add(Dense(32, activation='relu'))\n",
    "# # model.add(Dense(5, activation='relu', kernel_regularizer=regularizers.l2(0.001)))\n",
    "# model.add(Dropout(0.2))  \n",
    "# # model.add(Dense(16, activation='relu', kernel_regularizer=regularizers.l1(0.001)))\n",
    "# # model.add(Dense(16, activation='relu', kernel_regularizer=regularizers.l1(0.001)))\n",
    "# model.add(Dense(1, activation='sigmoid'))"
   ]
  },
  {
   "cell_type": "code",
   "execution_count": 20,
   "id": "9c9e792d-3334-436a-922b-0e68f309e2ac",
   "metadata": {},
   "outputs": [],
   "source": [
    "# model.compile(optimizer='rmsprop', loss='binary_crossentropy', metrics=['accuracy'])"
   ]
  },
  {
   "cell_type": "code",
   "execution_count": 21,
   "id": "cfa37407-d925-49e3-a622-a5522a3af452",
   "metadata": {},
   "outputs": [],
   "source": [
    "# from keras import optimizers\n",
    "\n",
    "# model.compile(optimizer=optimizers.RMSprop(learning_rate=0.001), loss='binary_crossentropy', metrics=['accuracy'])"
   ]
  },
  {
   "cell_type": "code",
   "execution_count": 22,
   "id": "4776478b-c7bd-465a-91dc-0b89f1eb477c",
   "metadata": {},
   "outputs": [],
   "source": [
    "from keras import losses\n",
    "from keras import metrics\n",
    "from tensorflow.keras import optimizers\n",
    "\n",
    "model.compile(optimizer=optimizers.Adam(learning_rate=0.0001), loss=losses.binary_crossentropy, metrics=[metrics.binary_accuracy])"
   ]
  },
  {
   "cell_type": "code",
   "execution_count": 23,
   "id": "ad181c4e-d912-4aad-80be-00fc402f0636",
   "metadata": {},
   "outputs": [
    {
     "name": "stdout",
     "output_type": "stream",
     "text": [
      "(8500, 500)\n",
      "(34000, 500)\n"
     ]
    }
   ],
   "source": [
    "print(x_val.shape)\n",
    "print(partial_x_train.shape)"
   ]
  },
  {
   "cell_type": "code",
   "execution_count": 24,
   "id": "4f186b98-63bf-49d7-928b-d950f4db2cba",
   "metadata": {},
   "outputs": [],
   "source": [
    "# Adding EarlyStopping to the code and ReduceLROnPlateau\n",
    "from keras.callbacks import EarlyStopping, ReduceLROnPlateau\n",
    "\n",
    "early_stopping = EarlyStopping(monitor='val_loss', patience=5, verbose=1, restore_best_weights=True)\n",
    "reduce_lr = ReduceLROnPlateau(monitor='val_loss', factor=0.1, patience=3, min_lr=1e-6, verbose=1)"
   ]
  },
  {
   "cell_type": "markdown",
   "id": "f378adb4-ade1-42e7-b273-51e001a7a929",
   "metadata": {},
   "source": [
    "## Train the Model"
   ]
  },
  {
   "cell_type": "code",
   "execution_count": 25,
   "id": "c5a1350f-e8d5-4f84-a3a3-81db8d294497",
   "metadata": {},
   "outputs": [
    {
     "name": "stdout",
     "output_type": "stream",
     "text": [
      "Epoch 1/200\n",
      "133/133 [==============================] - 3s 9ms/step - loss: 0.6934 - binary_accuracy: 0.5009 - val_loss: 0.6931 - val_binary_accuracy: 0.5018 - lr: 1.0000e-04\n",
      "Epoch 2/200\n",
      "133/133 [==============================] - 1s 7ms/step - loss: 0.6927 - binary_accuracy: 0.5111 - val_loss: 0.6931 - val_binary_accuracy: 0.5025 - lr: 1.0000e-04\n",
      "Epoch 3/200\n",
      "133/133 [==============================] - 1s 7ms/step - loss: 0.6918 - binary_accuracy: 0.5176 - val_loss: 0.6925 - val_binary_accuracy: 0.5216 - lr: 1.0000e-04\n",
      "Epoch 4/200\n",
      "133/133 [==============================] - 1s 8ms/step - loss: 0.6878 - binary_accuracy: 0.5445 - val_loss: 0.6875 - val_binary_accuracy: 0.6021 - lr: 1.0000e-04\n",
      "Epoch 5/200\n",
      "133/133 [==============================] - 1s 8ms/step - loss: 0.6635 - binary_accuracy: 0.6230 - val_loss: 0.6383 - val_binary_accuracy: 0.7048 - lr: 1.0000e-04\n",
      "Epoch 6/200\n",
      "133/133 [==============================] - 1s 8ms/step - loss: 0.6107 - binary_accuracy: 0.7245 - val_loss: 0.5829 - val_binary_accuracy: 0.8265 - lr: 1.0000e-04\n",
      "Epoch 7/200\n",
      "133/133 [==============================] - 1s 7ms/step - loss: 0.5543 - binary_accuracy: 0.7916 - val_loss: 0.5144 - val_binary_accuracy: 0.8364 - lr: 1.0000e-04\n",
      "Epoch 8/200\n",
      "133/133 [==============================] - 1s 7ms/step - loss: 0.5079 - binary_accuracy: 0.8298 - val_loss: 0.4719 - val_binary_accuracy: 0.8726 - lr: 1.0000e-04\n",
      "Epoch 9/200\n",
      "133/133 [==============================] - 1s 8ms/step - loss: 0.4651 - binary_accuracy: 0.8551 - val_loss: 0.4339 - val_binary_accuracy: 0.8800 - lr: 1.0000e-04\n",
      "Epoch 10/200\n",
      "133/133 [==============================] - 1s 8ms/step - loss: 0.4310 - binary_accuracy: 0.8713 - val_loss: 0.4024 - val_binary_accuracy: 0.8855 - lr: 1.0000e-04\n",
      "Epoch 11/200\n",
      "133/133 [==============================] - 1s 8ms/step - loss: 0.4039 - binary_accuracy: 0.8806 - val_loss: 0.3798 - val_binary_accuracy: 0.8869 - lr: 1.0000e-04\n",
      "Epoch 12/200\n",
      "133/133 [==============================] - 1s 8ms/step - loss: 0.3753 - binary_accuracy: 0.8953 - val_loss: 0.3638 - val_binary_accuracy: 0.8919 - lr: 1.0000e-04\n",
      "Epoch 13/200\n",
      "133/133 [==============================] - 1s 8ms/step - loss: 0.3555 - binary_accuracy: 0.9020 - val_loss: 0.3487 - val_binary_accuracy: 0.8927 - lr: 1.0000e-04\n",
      "Epoch 14/200\n",
      "133/133 [==============================] - 1s 8ms/step - loss: 0.3336 - binary_accuracy: 0.9105 - val_loss: 0.3363 - val_binary_accuracy: 0.8886 - lr: 1.0000e-04\n",
      "Epoch 15/200\n",
      "133/133 [==============================] - 1s 8ms/step - loss: 0.3171 - binary_accuracy: 0.9175 - val_loss: 0.3272 - val_binary_accuracy: 0.8927 - lr: 1.0000e-04\n",
      "Epoch 16/200\n",
      "133/133 [==============================] - 1s 8ms/step - loss: 0.2998 - binary_accuracy: 0.9252 - val_loss: 0.3216 - val_binary_accuracy: 0.8940 - lr: 1.0000e-04\n",
      "Epoch 17/200\n",
      "133/133 [==============================] - 1s 8ms/step - loss: 0.2849 - binary_accuracy: 0.9304 - val_loss: 0.3183 - val_binary_accuracy: 0.8933 - lr: 1.0000e-04\n",
      "Epoch 18/200\n",
      "133/133 [==============================] - 1s 8ms/step - loss: 0.2676 - binary_accuracy: 0.9366 - val_loss: 0.3158 - val_binary_accuracy: 0.8926 - lr: 1.0000e-04\n",
      "Epoch 19/200\n",
      "133/133 [==============================] - 1s 8ms/step - loss: 0.2553 - binary_accuracy: 0.9415 - val_loss: 0.3113 - val_binary_accuracy: 0.8940 - lr: 1.0000e-04\n",
      "Epoch 20/200\n",
      "133/133 [==============================] - 1s 8ms/step - loss: 0.2454 - binary_accuracy: 0.9447 - val_loss: 0.3042 - val_binary_accuracy: 0.8929 - lr: 1.0000e-04\n",
      "Epoch 21/200\n",
      "133/133 [==============================] - 1s 8ms/step - loss: 0.2305 - binary_accuracy: 0.9476 - val_loss: 0.3079 - val_binary_accuracy: 0.8925 - lr: 1.0000e-04\n",
      "Epoch 22/200\n",
      "133/133 [==============================] - 1s 8ms/step - loss: 0.2242 - binary_accuracy: 0.9509 - val_loss: 0.3286 - val_binary_accuracy: 0.8916 - lr: 1.0000e-04\n",
      "Epoch 23/200\n",
      "126/133 [===========================>..] - ETA: 0s - loss: 0.2129 - binary_accuracy: 0.9562\n",
      "Epoch 23: ReduceLROnPlateau reducing learning rate to 9.999999747378752e-06.\n",
      "133/133 [==============================] - 1s 8ms/step - loss: 0.2124 - binary_accuracy: 0.9561 - val_loss: 0.3264 - val_binary_accuracy: 0.8905 - lr: 1.0000e-04\n",
      "Epoch 24/200\n",
      "133/133 [==============================] - 1s 9ms/step - loss: 0.2057 - binary_accuracy: 0.9594 - val_loss: 0.3218 - val_binary_accuracy: 0.8919 - lr: 1.0000e-05\n",
      "Epoch 25/200\n",
      "133/133 [==============================] - ETA: 0s - loss: 0.2049 - binary_accuracy: 0.9586Restoring model weights from the end of the best epoch: 20.\n",
      "133/133 [==============================] - 1s 9ms/step - loss: 0.2049 - binary_accuracy: 0.9586 - val_loss: 0.3192 - val_binary_accuracy: 0.8921 - lr: 1.0000e-05\n",
      "Epoch 25: early stopping\n"
     ]
    }
   ],
   "source": [
    "history = model.fit(\n",
    "    partial_x_train,\n",
    "    partial_y_train,\n",
    "    epochs=200,\n",
    "    batch_size=256,\n",
    "    validation_data=(x_val, y_val),\n",
    "    callbacks=[early_stopping, reduce_lr]\n",
    ")\n"
   ]
  },
  {
   "cell_type": "code",
   "execution_count": 26,
   "id": "fe6d5a52-bbf3-481d-9b2a-4e41435562bc",
   "metadata": {},
   "outputs": [
    {
     "data": {
      "text/plain": [
       "dict_keys(['loss', 'binary_accuracy', 'val_loss', 'val_binary_accuracy', 'lr'])"
      ]
     },
     "execution_count": 26,
     "metadata": {},
     "output_type": "execute_result"
    }
   ],
   "source": [
    "history_dict = history.history\n",
    "history_dict.keys()"
   ]
  },
  {
   "cell_type": "markdown",
   "id": "0c851e50-9b96-46dd-ae9a-e438417c0d5b",
   "metadata": {},
   "source": [
    "## Evaluate"
   ]
  },
  {
   "cell_type": "code",
   "execution_count": 27,
   "id": "e2237264-00e6-420e-936e-a0a4d69ad9f7",
   "metadata": {},
   "outputs": [
    {
     "name": "stdout",
     "output_type": "stream",
     "text": [
      "Best Validation Loss: 0.30418023467063904\n",
      "Corresponding Training Loss: 0.2454107254743576\n",
      "Best Validation Accuracy: 0.8929411768913269\n",
      "Corresponding Training Accuracy: 0.9447059035301208\n"
     ]
    }
   ],
   "source": [
    "# Adding best validation metrics to be able follow, describe and compare the results of different models\n",
    "best_epoch = np.argmin(history.history['val_loss'])\n",
    "best_val_loss = history.history['val_loss'][best_epoch]\n",
    "best_train_loss = history.history['loss'][best_epoch]\n",
    "best_val_acc = history.history['val_binary_accuracy'][best_epoch]\n",
    "best_train_acc = history.history['binary_accuracy'][best_epoch]\n",
    "\n",
    "print(f\"Best Validation Loss: {best_val_loss}\")\n",
    "print(f\"Corresponding Training Loss: {best_train_loss}\")\n",
    "print(f\"Best Validation Accuracy: {best_val_acc}\")\n",
    "print(f\"Corresponding Training Accuracy: {best_train_acc}\")\n"
   ]
  },
  {
   "cell_type": "code",
   "execution_count": 28,
   "id": "b6162fd4-2a73-430e-bbbf-b792911e170e",
   "metadata": {},
   "outputs": [
    {
     "name": "stdout",
     "output_type": "stream",
     "text": [
      "235/235 [==============================] - 1s 3ms/step - loss: 0.2851 - binary_accuracy: 0.8979\n",
      "Test Loss: 0.28509387373924255\n",
      "Test Accuracy: 0.8978666663169861\n"
     ]
    }
   ],
   "source": [
    "# Evaluate on test data\n",
    "test_loss, test_accuracy = model.evaluate(x_test_padded, test_labels)\n",
    "\n",
    "# Print formatted results\n",
    "print(f\"Test Loss: {test_loss}\")\n",
    "print(f\"Test Accuracy: {test_accuracy}\")\n"
   ]
  },
  {
   "cell_type": "markdown",
   "id": "9a7258ac-ea7f-46bc-b283-ec2df6117b27",
   "metadata": {},
   "source": [
    "## Visualize"
   ]
  },
  {
   "cell_type": "code",
   "execution_count": 29,
   "id": "b3ae7a77-9369-485b-86e3-1d6ffcfb512f",
   "metadata": {},
   "outputs": [
    {
     "data": {
      "image/png": "[encoded data removed]",
      "text/plain": [
       "<Figure size 640x480 with 1 Axes>"
      ]
     },
     "metadata": {},
     "output_type": "display_data"
    }
   ],
   "source": [
    "import matplotlib.pyplot as plt\n",
    "\n",
    "acc = history.history['binary_accuracy']\n",
    "val_acc = history.history['val_binary_accuracy']\n",
    "loss = history.history['loss']\n",
    "val_loss = history.history['val_loss']\n",
    "\n",
    "epochs = range(1, len(acc) + 1)\n",
    "\n",
    "# \"bo\" is for \"blue dot\"\n",
    "plt.plot(epochs, loss, 'bo', label='Training loss', markersize=1)\n",
    "# b is for \"solid blue line\"\n",
    "plt.plot(epochs, val_loss, 'b', label='Validation loss')\n",
    "plt.title('Training and validation loss')\n",
    "plt.xlabel('Epochs')\n",
    "plt.ylabel('Loss')\n",
    "plt.legend()\n",
    "\n",
    "plt.show()"
   ]
  },
  {
   "cell_type": "code",
   "execution_count": 30,
   "id": "f702b359-131b-4d69-adb4-6cdcf76ba16b",
   "metadata": {},
   "outputs": [
    {
     "data": {
      "image/png": "[encoded data removed]",
      "text/plain": [
       "<Figure size 640x480 with 1 Axes>"
      ]
     },
     "metadata": {},
     "output_type": "display_data"
    }
   ],
   "source": [
    "plt.clf()   # clear figure\n",
    "acc_values = history.history['binary_accuracy']\n",
    "val_acc_values = history.history['val_binary_accuracy']\n",
    "\n",
    "plt.plot(epochs, acc, 'bo', label='Training acc', markersize=1)\n",
    "plt.plot(epochs, val_acc, 'b', label='Validation acc')\n",
    "plt.title('Training and validation accuracy')\n",
    "plt.xlabel('Epochs')\n",
    "plt.ylabel('Loss')\n",
    "plt.legend()\n",
    "\n",
    "plt.show()"
   ]
  }
 ],
 "metadata": {
  "kernelspec": {
   "display_name": "Python 3 (ipykernel)",
   "language": "python",
   "name": "python3"
  },
  "language_info": {
   "codemirror_mode": {
    "name": "ipython",
    "version": 3
   },
   "file_extension": ".py",
   "mimetype": "text/x-python",
   "name": "python",
   "nbconvert_exporter": "python",
   "pygments_lexer": "ipython3",
   "version": "3.10.14"
  }
 },
 "nbformat": 4,
 "nbformat_minor": 5
}
